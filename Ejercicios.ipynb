{
 "cells": [
  {
   "cell_type": "markdown",
   "id": "66f7aea9-7cd7-4e6b-b001-67480e61e476",
   "metadata": {},
   "source": [
    "# EJERCICIOS EVALUABLES\n",
    "\n",
    "**Nombre**: Elvis Pachacama<br>\n",
    "**Github**: <a href=\"https://github.com/ElvisDavis/maestriaMatematicaIA.git\">https://github.com/ElvisDavis/maestriaMatematicaIA.git</a>\n",
    "1. Tal y como ya hemos visto en clase, la variedad de herramientas proporcionadas por el álgebra lineal son cruciales para desarrollar y fundamentar las bases de una variedad de técnicas relacionadas con el aprendizaje automático. COn ella, podemos describir el proceso de propagación hacia adelante en una red neuronal, identificar mínimos locales en funciones multivariables (crucial par el proceso de retrópropagación) o la descripción y empleo de métodos de reducción de la dimensionalidad, como el análisis de componentes principales (PCA), entre muchas otras aplicaciones.<br>\n",
    "Cuando trabajamos en la práctica dentro de este ámbito, la cantidad de datos que manejamos puede ser muy grande, por lo que es especialmente importante emplear algoritmos eficientes y optimizados para reducir el coste computacional en la medida de lo posible. Por todo ello, el objetivo de este ejercicio es el de ilustrar las diferentes alternativas que pueden existir para realizar un proceso relacionado con el álgebra lineal y el impacto que puede tener cada variante en términos del coste computacional del mismo. En este caso particular, y a modo de ilustración, nos centraremos en el cálculo del determinante de una matriz.\n",
    "\n"
   ]
  },
  {
   "cell_type": "markdown",
   "id": "2bdc3991-422d-47c8-b197-c51f5a3d4c1a",
   "metadata": {},
   "source": [
    "### Ejercicio 1\n",
    "Implementa una función, determinante_recursivo, que obtenga el determinante de una matriz cuadrada utilizando la definición recursiva de Laplace."
   ]
  },
  {
   "cell_type": "code",
   "execution_count": 27,
   "id": "4fb83603-bfa0-45d5-9aca-fdec796f19a1",
   "metadata": {
    "tags": []
   },
   "outputs": [],
   "source": [
    "def determinante_recursivo(matriz, n):\n",
    "    #n= len(matriz)\n",
    "    # Validamos que la matriz sea cuadrada \n",
    "    if any(len(fila) != n for fila in matriz):\n",
    "        raise ValueError(\"La matriz no es cuadrada\")\n",
    "    # \n",
    "    if n==1:\n",
    "        return matriz[0][0]\n",
    "    # matriz 2x2\n",
    "    \n",
    "    if n ==2:\n",
    "        return matriz[0][0]*matriz[1][1]-matriz[0][1]*matriz[1][0]\n",
    "    \n",
    "    #\n",
    "    det = 0\n",
    "    for j in range(n):\n",
    "        matriz2= [fila[:j]+ fila[j+1:] for fila in matriz[1:]]\n",
    "        cofactor = ((-1) **j) * matriz[0][j]*determinante_recursivo(matriz2, n-1)\n",
    "        det += cofactor\n",
    "    return det\n",
    "        \n",
    "    \n",
    "    "
   ]
  },
  {
   "cell_type": "code",
   "execution_count": 28,
   "id": "1d2bad10-c5e2-44cd-ae01-78640bbade80",
   "metadata": {
    "tags": []
   },
   "outputs": [
    {
     "name": "stdout",
     "output_type": "stream",
     "text": [
      "Determinante de A: -6\n",
      "Determinante de B:  42\n"
     ]
    }
   ],
   "source": [
    "n=2\n",
    "A=[[4,3],[6,3]]\n",
    "print(\"Determinante de A:\" , determinante_recursivo(A,n))\n",
    "n=4\n",
    "B=[[3,2,1,3],[8,2,3,2],[5,4,3,9],[0,0,2,1]]\n",
    "print(\"Determinante de B: \", determinante_recursivo(B,n))"
   ]
  },
  {
   "cell_type": "code",
   "execution_count": 33,
   "id": "76b49896-4bb3-4ff0-8169-2f327b50d8f1",
   "metadata": {
    "tags": []
   },
   "outputs": [
    {
     "name": "stdin",
     "output_type": "stream",
     "text": [
      "Ingrese el tamaño de la matriz (n x n)  3\n"
     ]
    },
    {
     "name": "stdout",
     "output_type": "stream",
     "text": [
      "Ingrese los 9 elementos de la matriz fila por fila: \n"
     ]
    },
    {
     "name": "stdin",
     "output_type": "stream",
     "text": [
      "Ingrese el elemento (1,1):  2\n",
      "Ingrese el elemento (1,2):  3\n",
      "Ingrese el elemento (1,3):  4\n",
      "Ingrese el elemento (2,1):  0\n",
      "Ingrese el elemento (2,2):  5\n",
      "Ingrese el elemento (2,3):  6\n",
      "Ingrese el elemento (3,1):  0\n",
      "Ingrese el elemento (3,2):  0\n",
      "Ingrese el elemento (3,3):  7\n"
     ]
    },
    {
     "name": "stdout",
     "output_type": "stream",
     "text": [
      "\n",
      "Matriz Ingresada:\n",
      "[2.0, 3.0, 4.0]\n",
      "[0.0, 5.0, 6.0]\n",
      "[0.0, 0.0, 7.0]\n",
      "\n",
      "El determinante de la matriz es : 70.0\n"
     ]
    }
   ],
   "source": [
    "# Solicitamos al usuario el tamaño de la matriz\n",
    "n=int(input(\"Ingrese el tamaño de la matriz (n x n) \"))\n",
    "\n",
    "#Inicializamos una lista vacia para almacenar la matriz\n",
    "matriz=[]\n",
    "#solicitamos al usuario los elementos de la matriz\n",
    "print(f\"Ingrese los {n*n} elementos de la matriz fila por fila: \")\n",
    "for i in range(n):\n",
    "    #lista temporal para la fila actual\n",
    "    fila=[]\n",
    "    for j in range(n):\n",
    "        #Ingresamos los elementos que se van añadir a la matriz\n",
    "        valor=float(input(f\"Ingrese el elemento ({i+1},{j+1}): \"))\n",
    "        #Agrega el valor a la fila\n",
    "        fila.append(valor)\n",
    "    #Agregamos la fila a la matriz principal\n",
    "    matriz.append(fila)\n",
    "#Mostramos la matriz generada\n",
    "print(\"\\nMatriz Ingresada:\")\n",
    "for fila in matriz:\n",
    "    print(fila)\n",
    "# calculamos el determinate\n",
    "determinante=determinante_recursivo(matriz,n)\n",
    "# Imprimimos el valor del determinante encontrado\n",
    "print(f\"\\nEl determinante de la matriz es : {determinante}\")\n"
   ]
  },
  {
   "cell_type": "markdown",
   "id": "0af72a1d-d596-40b1-a57f-bf56ff8df02a",
   "metadata": {},
   "source": [
    "### Ejercicio 2\n",
    "Si $A$ es uan matriz cuadrada $nxn$ y triangular (superior o inferio, es decir, con entradas nulas por debajo o por encima de la diagonal, respectivamente), ¿existe alguna forma de calcualr de forma directa y sencilla su determinante? Justifiquese la respuesta.\n",
    "\n",
    "### Respuesta\n",
    "Según lo aprendido en la sección de álgebra lineal, y en materias anteriores. **Si** existe un método para poder calcular su determinante de forma directa en una **matriz tringular superior o inferior**. Cuando una matriz cuadrada $A \\in \\mathbb{R}^{nxn}$ es triangular, ya sea superior o inferior, existe una forma muy directa  y eficiente de calcular su determinante: **simplemente multiplicando los elementos de su diagonal principal**.<br>\n",
    "Como se menciono anteriormente esta propiedad la conocía previamente de cursos de álgebra lineal, pero al revisar desde la perspectiva de la optimización computacional en Inteligencia Artificial, cobra aún más relevancia. Específicamente, si una matriz tiene ceros por encima o por debajo de la diagonal, entonces su determinante no requiere expansión de Laplace ni operaciones de factorización costosas.<br>\n",
    "Esto se debe a que, en una matriz triangular, las operaciones de eliminación de filas **no afectan la estructura** triangular ni los valores en la diagonal. Como resultado, el producto de los elementos $a_{11}, a_{22},...,a_{nn}$ de la diagonal principal nos da directamente el valor del determinante:\n",
    "\n",
    "$$ det(A)= \\prod_{i=1}^{n} a_{ii} $$\n",
    "\n",
    "Este resultado es válido tanto para matrices triangulares superiores coo para inferiores.<br>\n",
    "Desde el punto de vista de la eficiencia algorítmica, este tipo de cálculoes es extremadamente útil en problemas de Machine Learning que implican álgebra lineal de alto rendimineto, como la resolución de sistemas de ecuaciones lineales o la factorización de matrices. En estos contextos, evitar operaciones recursivas costosas es fundamental para lograr una buena escalabilidad del sistema.<br>\n",
    "Ejemplo:\n",
    "\n",
    "$$\n",
    "A= \\begin{pmatrix}\n",
    "3 & 1 & 2 \\\\\n",
    "0 & 4 & -1 \\\\\n",
    "0 & 0 & 5\n",
    "\\end{pmatrix}\n",
    "$$\n",
    "\n",
    "Su determinante sería simplemente:\n",
    "$$det(A) = 3*4*5=60$$\n",
    "\n",
    "Este tipo de optimización de cálculo puede parecer simple, pero tiene un impacto en el rendimiento cuando se aplican algoritmos a grnades volúmenes de datos, como es común en proyectos reales de Inteligencia Artificial.<br>\n",
    "\n",
    "El reconocimiento de que una matriz es triangular me permite evitar el uso de métodos computacionalmente costosos como la expansión de Laplace o la eliminación gaussiana, y utilizar directamente una multiplicación de n elementos, lo cual es una **ventaja siginificativa tanto en tiempo de cómputo como en claridad matemática**\n"
   ]
  },
  {
   "cell_type": "markdown",
   "id": "7f21c6b8-cc0e-4729-be8b-24948392d652",
   "metadata": {},
   "source": [
    "### Ejercicio 3\n",
    "\n",
    "Determinese de forma justificada cómo alteran el determinante de una matriz $n x n$ las dos operaciones elementales siguinetes:\n",
    "* Intercambiar una fil (o columna) por otra fila (o columna)\n",
    "* Sumar a una fila (o culumna) otra fila (o columna) multiplicada por un escalar $\\alpha$.\n",
    "\n",
    "### Respuesta\n",
    "\n",
    "Al momento que se calcula el determinante de una matriz es una propiedad muy sensible a las operaciones que modifican la estructura de dicha matriz. Explicaremos como se afecta dicho valor ante las dos operaciones elementales que se esta proponiendo en la pregunta.\n",
    "\n",
    "**1. Intercambiar una fila(o columna) por otra.**\n",
    "Cuando se e¿intercambia una fila o columna de una matriz cuadrada, el signo del determinante se invierte. Es decir, si u"
   ]
  },
  {
   "cell_type": "code",
   "execution_count": null,
   "id": "a320ea15-7eea-40a1-a735-fd2b37408ffd",
   "metadata": {},
   "outputs": [],
   "source": []
  }
 ],
 "metadata": {
  "kernelspec": {
   "display_name": "Python 3 (ipykernel)",
   "language": "python",
   "name": "python3"
  },
  "language_info": {
   "codemirror_mode": {
    "name": "ipython",
    "version": 3
   },
   "file_extension": ".py",
   "mimetype": "text/x-python",
   "name": "python",
   "nbconvert_exporter": "python",
   "pygments_lexer": "ipython3",
   "version": "3.8.16"
  }
 },
 "nbformat": 4,
 "nbformat_minor": 5
}
