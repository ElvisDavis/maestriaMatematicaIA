{
 "cells": [
  {
   "cell_type": "markdown",
   "id": "66f7aea9-7cd7-4e6b-b001-67480e61e476",
   "metadata": {},
   "source": [
    "# EJERCICIOS EVALUABLES\n",
    "\n",
    "**Nombre**: Elvis Pachacama<br>\n",
    "**Github**: <a href=\"https://github.com/ElvisDavis/maestriaMatematicaIA.git\">https://github.com/ElvisDavis/maestriaMatematicaIA.git</a>\n",
    "1. Tal y como ya hemos visto en clase, la variedad de herramientas proporcionadas por el álgebra lineal son cruciales para desarrollar y fundamentar las bases de una variedad de técnicas relacionadas con el aprendizaje automático. COn ella, podemos describir el proceso de propagación hacia adelante en una red neuronal, identificar mínimos locales en funciones multivariables (crucial par el proceso de retrópropagación) o la descripción y empleo de métodos de reducción de la dimensionalidad, como el análisis de componentes principales (PCA), entre muchas otras aplicaciones.<br>\n",
    "Cuando trabajamos en la práctica dentro de este ámbito, la cantidad de datos que manejamos puede ser muy grande, por lo que es especialmente importante emplear algoritmos eficientes y optimizados para reducir el coste computacional en la medida de lo posible. Por todo ello, el objetivo de este ejercicio es el de ilustrar las diferentes alternativas que pueden existir para realizar un proceso relacionado con el álgebra lineal y el impacto que puede tener cada variante en términos del coste computacional del mismo. En este caso particular, y a modo de ilustración, nos centraremos en el cálculo del determinante de una matriz.\n",
    "\n"
   ]
  },
  {
   "cell_type": "markdown",
   "id": "2bdc3991-422d-47c8-b197-c51f5a3d4c1a",
   "metadata": {},
   "source": [
    "### Ejercicio 1\n",
    "Implementa una función, determinante_recursivo, que obtenga el determinante de una matriz cuadrada utilizando la definición recursiva de Laplace."
   ]
  },
  {
   "cell_type": "code",
   "execution_count": 4,
   "id": "4fb83603-bfa0-45d5-9aca-fdec796f19a1",
   "metadata": {
    "tags": []
   },
   "outputs": [],
   "source": [
    "def determinante_recursivo(matriz):\n",
    "    n= len(matriz)\n",
    "    # Valiudamos que la matriz sea cuadrada \n",
    "    if any(len(fila) != n for fila in matriz):\n",
    "        raise ValueError(\"La matriz no es cuadrada\")\n",
    "    # \n",
    "    if n==1:\n",
    "        return matriz[0][0]\n",
    "    # matriz 2x2\n",
    "    \n",
    "    if n ==2:\n",
    "        return matriz[0][0]*matriz[1][1]-matriz[0][1]*matriz[1][0]\n",
    "    \n",
    "    #\n",
    "    det = 0\n",
    "    for i in range(n):\n",
    "        matriz2= [fila[:i]+ fila[i+1:] for fila in matriz[1:]]\n",
    "        cofactor = ((-1) **i) * matriz[0][i]*determinante_recursivo(matriz2)\n",
    "        det += cofactor\n",
    "    return det\n",
    "        \n",
    "    \n",
    "    "
   ]
  },
  {
   "cell_type": "code",
   "execution_count": 5,
   "id": "1d2bad10-c5e2-44cd-ae01-78640bbade80",
   "metadata": {
    "tags": []
   },
   "outputs": [
    {
     "name": "stdout",
     "output_type": "stream",
     "text": [
      "Determinante de A: -6\n",
      "Determinante de B:  42\n"
     ]
    }
   ],
   "source": [
    "A=[[4,3],[6,3]]\n",
    "print(\"Determinante de A:\" , determinante_recursivo(A))\n",
    "B=[[3,2,1,3],[8,2,3,2],[5,4,3,9],[0,0,2,1]]\n",
    "print(\"Determinante de B: \", determinante_recursivo(B))"
   ]
  },
  {
   "cell_type": "code",
   "execution_count": null,
   "id": "76b49896-4bb3-4ff0-8169-2f327b50d8f1",
   "metadata": {},
   "outputs": [],
   "source": []
  }
 ],
 "metadata": {
  "kernelspec": {
   "display_name": "Python 3 (ipykernel)",
   "language": "python",
   "name": "python3"
  },
  "language_info": {
   "codemirror_mode": {
    "name": "ipython",
    "version": 3
   },
   "file_extension": ".py",
   "mimetype": "text/x-python",
   "name": "python",
   "nbconvert_exporter": "python",
   "pygments_lexer": "ipython3",
   "version": "3.8.16"
  }
 },
 "nbformat": 4,
 "nbformat_minor": 5
}
